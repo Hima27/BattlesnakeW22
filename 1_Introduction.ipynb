{
 "cells": [
  {
   "cell_type": "markdown",
   "metadata": {},
   "source": [
    "**Note**: When running this notebook on SageMaker Studio, you should make sure the 'SageMaker JumpStart Tensorflow 1.0' image/kernel is used. You can run run all cells at once or step through the notebook.\n",
    "# Reinforcement Learning for Battlesnake AI Competitions \n",
    "\n",
    "This project shows how to build and deploy an AI for the platform [Battlesnake](https://play.battlesnake.com/) on AWS with [Amazon Sagemaker](https://aws.amazon.com/sagemaker/)!\n",
    "\n",
    "It is ready to deploy and contains learning materials for AI enthusiasts.\n",
    "\n",
    "__What is Battlesnake?__ (taken from [battlesnake.com](https://docs.battlesnake.com/references/rules)):\n",
    "\n",
    "> Battlesnake is an autonomous survival game where your snake competes with others to find and eat food without being eliminated. To accomplish this, you will have to teach your snake to navigate the serpentine paths created by walls, other snakes, and their own growing tail without running out of energy.\n",
    "\n",
    "## Introduction\n",
    "\n",
    "This project contains a ready-to-use AI for Battlesnake as well as a development environment that can be used to modify and improve the AI.\n",
    "The included AI makes movement decisions in two steps:\n",
    "\n",
    "  1. [__Train a Neural Network Policy__](./2_PolicyTraining.ipynb)\n",
    "  2. [__Run Heuristics__](./3_HeuristicsDeveloper.ipynb)\n",
    "\n",
    "Several pre-trained neural network models are provided within this project as well as some default heuristics. These pre-trained models (snakes) are not designed to win the Battlesnake competition, so you'll have to improve them in order to have a chance of winning. The training environment is provided for you to make modifications and to retrain the neural network models in order to obtain better results.\n",
    "\n",
    "The heuristics module allows you to provide additional code that can override the Neural Network's predicted best action so that your snake avoids colliding with walls, eats food if it is safe to do so, attempts to eat a competitor snake, ...)\n",
    "\n",
    "### Architecture\n",
    "\n",
    "If you use Steps 1-3, you will have the following deployed within your AWS account:\n",
    "\n",
    "![General Architecture](https://github.com/awslabs/sagemaker-battlesnake-ai/blob/master/Documentation/images/ArchitectureSagemakerBattlesnakeFull.png?raw=true \"General Architecture\")\n",
    "\n",
    "### Testing your snake\n",
    "\n",
    "Head to https://play.battlesnake.com/ and [create your own snake](https://play.battlesnake.com/account/snakes/create/).\n",
    "Enter the your snake's name and in the `URL` field, enter the outputs of the following cell:"
   ]
  },
  {
   "cell_type": "code",
   "execution_count": 1,
   "metadata": {},
   "outputs": [
    {
     "name": "stdout",
     "output_type": "stream",
     "text": [
      "Your Snake URL is: https://56fbd5ro6k.execute-api.us-west-2.amazonaws.com/snake/\n"
     ]
    }
   ],
   "source": [
    "import json\n",
    "\n",
    "with open(\"../stack_outputs.json\") as f:\n",
    "    info = json.load(f)\n",
    "print(\"Your Snake URL is: {}\".format(info[\"SnakeAPI\"]))"
   ]
  },
  {
   "cell_type": "markdown",
   "metadata": {},
   "source": [
    "## Training an RL snake\n",
    "\n",
    "Open the [PolicyTraining.ipynb](./2_PolicyTraining.ipynb) notebook and read through the steps. Press ► at the top of the Jupyter window to run the notebook.\n",
    "\n",
    "## Open the training source code\n",
    "\n",
    "Open [`train-mabs.py`](./training/training_src/train-mabs.py), here you can edit the algorithms, hyperparameters, and other configurations to train your own policy.\n",
    "\n",
    "See https://docs.ray.io/en/master/rllib.html for more details on how to improve your policy.\n",
    "\n",
    "## How to develop your own heuristic algorithms\n",
    "\n",
    "Open the notebook [`HeuristicDeveloper.ipynb`](./3_HeuristicsDeveloper.ipynb) and ensure that you have a functioning policy (if you have altered the model, you may need to configure the inference step in [`heuristics_utils.get_action(*args)`](./heuristics_utils.py)). \n",
    "\n",
    "### Open the heuristic source code\n",
    "\n",
    "Navigate to [`battlesnake/RLlibEnv/inference/inference_src/battlesnake_heuristics.py`](./inference/inference_src/battlesnake_heuristics.py)\n",
    "\n",
    "You can customize the `run()` method in the class `MyBattlesnakeHeuristics` with your own rules (see `go_to_food_if_close` for an example). \n",
    "\n",
    "## Visualizing your algorithm\n",
    "\n",
    "- If you want to visualize your AI in action, ensure that you are using *Jupyter* instead of *JupyterLab* (this is the default if you use the links from the CloudFormation 'Outputs' tab).\n",
    "- The notebook loads a pre-trained model and allows your AI to interact with the environment\n",
    "- After the *Playback the simulation* section, you should see the step-by-step positions, actions, health etc. of each snake.\n",
    "- If you want to specify the positions of each snake and food (instead of randomly generating it), you can enter it in `initial_state` in *Define the openAI gym*. initial_state is defined similarly to the [battlesnake API](https://docs.battlesnake.com/snake-api).\n",
    "\n",
    "![Visualization](https://github.com/awslabs/sagemaker-battlesnake-ai/blob/master/Documentation/images/VisualizingHeuristics.png?raw=true \"Visualize the heuristics\")\n",
    "\n",
    "# Navigation\n",
    "- To go back to the introduction click [here](./1_Introduction.ipynb)\n",
    "- To train a new model click [here](./2_PolicyTraining.ipynb)\n",
    "- To build some heuristics click [here](./3_HeuristicsDeveloper.ipynb)"
   ]
  },
  {
   "cell_type": "code",
   "execution_count": null,
   "metadata": {},
   "outputs": [],
   "source": []
  }
 ],
 "metadata": {
  "kernelspec": {
   "display_name": "conda_tensorflow2_p36",
   "language": "python",
   "name": "conda_tensorflow2_p36"
  },
  "language_info": {
   "codemirror_mode": {
    "name": "ipython",
    "version": 3
   },
   "file_extension": ".py",
   "mimetype": "text/x-python",
   "name": "python",
   "nbconvert_exporter": "python",
   "pygments_lexer": "ipython3",
   "version": "3.6.13"
  }
 },
 "nbformat": 4,
 "nbformat_minor": 4
}
